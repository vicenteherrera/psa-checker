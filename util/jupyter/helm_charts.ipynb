{
 "cells": [
  {
   "cell_type": "markdown",
   "id": "8ae94c0a-60d8-4c6b-97ce-936091daf36e",
   "metadata": {},
   "source": [
    "# Artifact Hub Helm charts security posture\n",
    "\n",
    "Data has been generated using https://github.com/vicenteherrera/psa-checker"
   ]
  },
  {
   "cell_type": "code",
   "execution_count": 1,
   "id": "562a168c-f19a-4199-8b45-4509ada02498",
   "metadata": {},
   "outputs": [],
   "source": [
    "import yaml\n",
    "import os\n",
    "from string import ascii_lowercase"
   ]
  },
  {
   "cell_type": "markdown",
   "id": "31e6c312-0983-4b1a-8d4a-cb6cc1147364",
   "metadata": {},
   "source": [
    "We load the data from disk"
   ]
  },
  {
   "cell_type": "code",
   "execution_count": 2,
   "id": "27fa52a3-5991-49d4-82f7-97de32f6b606",
   "metadata": {},
   "outputs": [],
   "source": [
    "charts_pss = yaml.safe_load(open(\"helm_charts_pss.yaml\", 'r'))"
   ]
  },
  {
   "cell_type": "markdown",
   "id": "6443838e-833a-4a88-8f2c-1d5802325a3a",
   "metadata": {},
   "source": [
    "Count status for all charts"
   ]
  },
  {
   "cell_type": "code",
   "execution_count": 3,
   "id": "cd5c5c52-6e60-4499-9a69-71ac4d367872",
   "metadata": {},
   "outputs": [
    {
     "name": "stdout",
     "output_type": "stream",
     "text": [
      "# Counting\n"
     ]
    }
   ],
   "source": [
    "i=0\n",
    "count = {\n",
    "    \"total\":0,\n",
    "    \"privileged\":0,\n",
    "    \"baseline\":0,\n",
    "    \"restricted\":0,\n",
    "    \"error_download\":0,\n",
    "    \"error_template\":0,\n",
    "}\n",
    "brbuckets = {}\n",
    "brzero = 0\n",
    "br_min_buckets = -700\n",
    "br_size_buckets = -50\n",
    "br_n_buckets = int (br_min_buckets / br_size_buckets)\n",
    "brmin = br_non_evaluable = br_no_workload = 0\n",
    "for i in range(0, br_min_buckets, br_size_buckets):\n",
    "    brbuckets[str(i)] = 0\n",
    "\n",
    "calpha = {}\n",
    "for l in ascii_lowercase:\n",
    "    calpha[l]=0\n",
    "\n",
    "print(\"# Counting\")\n",
    "date = \"\"\n",
    "keys_pss = charts_pss.keys()    \n",
    "for key in keys_pss:\n",
    "    dic_chart = charts_pss[key]\n",
    "    level = \"unknown\"\n",
    "    i += 1\n",
    "    calpha[dic_chart[\"repository\"][\"name\"][0]] += 1\n",
    "    if \"pss\" in dic_chart:\n",
    "        if dic_chart[\"pss\"][\"date\"] > date:\n",
    "            date = dic_chart[\"pss\"][\"date\"]\n",
    "        level = dic_chart[\"pss\"][\"level\"]\n",
    "\n",
    "        if \"badrobot\" in dic_chart:\n",
    "            score = dic_chart[\"badrobot\"][\"score\"]\n",
    "            if score == \"\":\n",
    "                br_non_evaluable += 1\n",
    "            elif dic_chart[\"pss\"][\"level\"] in [\"empty_no_object\", \"no_pod_object_but_crd\", \"no_pod_object\"]:\n",
    "                br_no_workload += 1\n",
    "            else :\n",
    "                score = int(score)\n",
    "                if score < brmin: brmin = int(score)\n",
    "                if score == 0:\n",
    "                    brzero += 1\n",
    "                else:\n",
    "                    for i in range(0, br_min_buckets + br_size_buckets, br_size_buckets):\n",
    "                        if i >= score and score > ( i + br_size_buckets ):\n",
    "                            brbuckets[str(i)] += 1\n",
    "                            break\n",
    "\n",
    "    count[\"total\"] +=1\n",
    "    if level not in count:\n",
    "        count[level] = 1\n",
    "    else:\n",
    "        count[level] += 1"
   ]
  },
  {
   "cell_type": "code",
   "execution_count": 4,
   "id": "c3350f51",
   "metadata": {},
   "outputs": [
    {
     "data": {
      "text/plain": [
       "{'total': 10194,\n",
       " 'privileged': 549,\n",
       " 'baseline': 4320,\n",
       " 'restricted': 32,\n",
       " 'error_download': 2265,\n",
       " 'error_template': 757,\n",
       " 'empty_no_object': 376,\n",
       " 'no_pod_object_but_crd': 1247,\n",
       " 'version_not_evaluable': 491,\n",
       " 'no_pod_object': 157}"
      ]
     },
     "execution_count": 4,
     "metadata": {},
     "output_type": "execute_result"
    }
   ],
   "source": [
    "count"
   ]
  },
  {
   "cell_type": "code",
   "execution_count": 5,
   "id": "0e837914-3985-45ee-ba16-8b45e0e34355",
   "metadata": {},
   "outputs": [
    {
     "data": {
      "text/plain": [
       "832"
      ]
     },
     "execution_count": 5,
     "metadata": {},
     "output_type": "execute_result"
    }
   ],
   "source": [
    "brzero"
   ]
  },
  {
   "cell_type": "code",
   "execution_count": 6,
   "id": "ec9fd941",
   "metadata": {},
   "outputs": [
    {
     "data": {
      "text/plain": [
       "{'0': 3291,\n",
       " '-50': 205,\n",
       " '-100': 63,\n",
       " '-150': 15,\n",
       " '-200': 9,\n",
       " '-250': 5,\n",
       " '-300': 2,\n",
       " '-350': 1,\n",
       " '-400': 1,\n",
       " '-450': 0,\n",
       " '-500': 0,\n",
       " '-550': 0,\n",
       " '-600': 0,\n",
       " '-650': 1}"
      ]
     },
     "execution_count": 6,
     "metadata": {},
     "output_type": "execute_result"
    }
   ],
   "source": [
    "brbuckets"
   ]
  },
  {
   "cell_type": "code",
   "execution_count": null,
   "id": "62f58c46-3af0-4397-ba18-226185913e83",
   "metadata": {},
   "outputs": [],
   "source": []
  }
 ],
 "metadata": {
  "kernelspec": {
   "display_name": "Python 3 (ipykernel)",
   "language": "python",
   "name": "python3"
  },
  "language_info": {
   "codemirror_mode": {
    "name": "ipython",
    "version": 3
   },
   "file_extension": ".py",
   "mimetype": "text/x-python",
   "name": "python",
   "nbconvert_exporter": "python",
   "pygments_lexer": "ipython3",
   "version": "3.10.6"
  }
 },
 "nbformat": 4,
 "nbformat_minor": 5
}
